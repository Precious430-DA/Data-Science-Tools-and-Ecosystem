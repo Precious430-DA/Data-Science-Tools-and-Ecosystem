{
 "cells": [
  {
   "cell_type": "markdown",
   "id": "93a46c80-fc8e-482a-8665-1e5484b9adbc",
   "metadata": {},
   "source": [
    "# Data Science Tools and Ecosystem\n"
   ]
  },
  {
   "cell_type": "markdown",
   "id": "8c78933a-c98d-4a7d-b20c-fcc79466ad17",
   "metadata": {},
   "source": [
    "In this notebook, Data Science Tools and Ecosystem are summarized.\n"
   ]
  },
  {
   "cell_type": "markdown",
   "id": "4448cd79-c4a6-41a6-8a1e-f0092c0d609a",
   "metadata": {},
   "source": [
    "Some of the popular languages that Data Scientists use are:\n",
    "- pandas - Essential for data manipulation and analysis, providing DataFrames and Series for handling structured data\n",
    "- NumPy - Fundamental package for numerical computing, offering support for large multi-dimensional arrays and mathematical functions\n",
    "- scikit-learn - Comprehensive machine learning library with tools for classification, regression, clustering, and model evaluation"
   ]
  },
  {
   "cell_type": "markdown",
   "id": "9eb76dcc-b238-4529-a8a8-5b3d75715f85",
   "metadata": {},
   "source": [
    "Objectives:\n",
    "* Data Science Tools\n",
    "* Introduction to arithmetic expressions in Python\n",
    "* Converting units using basic mathematical operations"
   ]
  },
  {
   "cell_type": "markdown",
   "id": "04b310d8-0f46-4c2c-aa8b-df6d8cf2fb45",
   "metadata": {},
   "source": [
    "| Data Science Tools |\n",
    "| ------------------ |\n",
    "| Jupyter Notebook |\n",
    "| Visual Studio Code (VS code) |\n",
    "| RStudio |"
   ]
  },
  {
   "cell_type": "markdown",
   "id": "4b60be9d-cad0-4470-955c-5fbd776459d1",
   "metadata": {},
   "source": [
    "### Below are a few examples of evaluating arithmetic expressions in Python:"
   ]
  },
  {
   "cell_type": "code",
   "execution_count": 1,
   "id": "e019ba6b-564a-4c9d-9750-05733fbc6bf7",
   "metadata": {},
   "outputs": [
    {
     "data": {
      "text/plain": [
       "17"
      ]
     },
     "execution_count": 1,
     "metadata": {},
     "output_type": "execute_result"
    }
   ],
   "source": [
    "(3*4)+5\n",
    "# This a simple arithmetic expression to mutiply then add integers"
   ]
  },
  {
   "cell_type": "code",
   "execution_count": 2,
   "id": "38760d4d-5db2-4017-80c6-c2c07a12c544",
   "metadata": {},
   "outputs": [
    {
     "data": {
      "text/plain": [
       "3.3333333333333335"
      ]
     },
     "execution_count": 2,
     "metadata": {},
     "output_type": "execute_result"
    }
   ],
   "source": [
    "200/60\n",
    "#This will convert 200 minutes to hours by diving by 60"
   ]
  },
  {
   "cell_type": "markdown",
   "id": "ce1fcd55-82b8-4138-b875-071ab5a8edf5",
   "metadata": {},
   "source": [
    "## Author \n",
    "PRECIOUS OFOYEKPENE"
   ]
  },
  {
   "cell_type": "code",
   "execution_count": null,
   "id": "fe8be986-25ae-4d80-83c0-0c10a2a36b23",
   "metadata": {},
   "outputs": [],
   "source": []
  }
 ],
 "metadata": {
  "kernelspec": {
   "display_name": "Python 3 (ipykernel)",
   "language": "python",
   "name": "python3"
  },
  "language_info": {
   "codemirror_mode": {
    "name": "ipython",
    "version": 3
   },
   "file_extension": ".py",
   "mimetype": "text/x-python",
   "name": "python",
   "nbconvert_exporter": "python",
   "pygments_lexer": "ipython3",
   "version": "3.12.7"
  }
 },
 "nbformat": 4,
 "nbformat_minor": 5
}
